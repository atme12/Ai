{
 "cells": [
  {
   "cell_type": "code",
   "execution_count": 2,
   "id": "2dac17bf-63b2-4f43-b8b2-8b5a0f709266",
   "metadata": {},
   "outputs": [
    {
     "name": "stdout",
     "output_type": "stream",
     "text": [
      "1 | 2 | 3\n",
      "-----\n",
      "4 | 5 | 6\n",
      "-----\n",
      "7 | 8 | 9\n",
      "-----\n"
     ]
    },
    {
     "name": "stdin",
     "output_type": "stream",
     "text": [
      "Player X, enter a position (1-9):  5\n"
     ]
    },
    {
     "name": "stdout",
     "output_type": "stream",
     "text": [
      "1 | 2 | 3\n",
      "-----\n",
      "4 | X | 6\n",
      "-----\n",
      "7 | 8 | 9\n",
      "-----\n"
     ]
    },
    {
     "name": "stdin",
     "output_type": "stream",
     "text": [
      "Player O, enter a position (1-9):  8\n"
     ]
    },
    {
     "name": "stdout",
     "output_type": "stream",
     "text": [
      "1 | 2 | 3\n",
      "-----\n",
      "4 | X | 6\n",
      "-----\n",
      "7 | O | 9\n",
      "-----\n"
     ]
    },
    {
     "name": "stdin",
     "output_type": "stream",
     "text": [
      "Player X, enter a position (1-9):  5\n"
     ]
    },
    {
     "name": "stdout",
     "output_type": "stream",
     "text": [
      "That spot is already taken. Try again.\n",
      "1 | 2 | 3\n",
      "-----\n",
      "4 | X | 6\n",
      "-----\n",
      "7 | O | 9\n",
      "-----\n"
     ]
    },
    {
     "name": "stdin",
     "output_type": "stream",
     "text": [
      "Player X, enter a position (1-9):  5\n"
     ]
    },
    {
     "name": "stdout",
     "output_type": "stream",
     "text": [
      "That spot is already taken. Try again.\n",
      "1 | 2 | 3\n",
      "-----\n",
      "4 | X | 6\n",
      "-----\n",
      "7 | O | 9\n",
      "-----\n"
     ]
    },
    {
     "name": "stdin",
     "output_type": "stream",
     "text": [
      "Player X, enter a position (1-9):  9\n"
     ]
    },
    {
     "name": "stdout",
     "output_type": "stream",
     "text": [
      "1 | 2 | 3\n",
      "-----\n",
      "4 | X | 6\n",
      "-----\n",
      "7 | O | X\n",
      "-----\n"
     ]
    },
    {
     "name": "stdin",
     "output_type": "stream",
     "text": [
      "Player O, enter a position (1-9):  7\n"
     ]
    },
    {
     "name": "stdout",
     "output_type": "stream",
     "text": [
      "1 | 2 | 3\n",
      "-----\n",
      "4 | X | 6\n",
      "-----\n",
      "O | O | X\n",
      "-----\n"
     ]
    },
    {
     "name": "stdin",
     "output_type": "stream",
     "text": [
      "Player X, enter a position (1-9):  2\n"
     ]
    },
    {
     "name": "stdout",
     "output_type": "stream",
     "text": [
      "1 | X | 3\n",
      "-----\n",
      "4 | X | 6\n",
      "-----\n",
      "O | O | X\n",
      "-----\n"
     ]
    },
    {
     "name": "stdin",
     "output_type": "stream",
     "text": [
      "Player O, enter a position (1-9):  3\n"
     ]
    },
    {
     "name": "stdout",
     "output_type": "stream",
     "text": [
      "1 | X | O\n",
      "-----\n",
      "4 | X | 6\n",
      "-----\n",
      "O | O | X\n",
      "-----\n"
     ]
    },
    {
     "name": "stdin",
     "output_type": "stream",
     "text": [
      "Player X, enter a position (1-9):  1\n"
     ]
    },
    {
     "name": "stdout",
     "output_type": "stream",
     "text": [
      "X | X | O\n",
      "-----\n",
      "4 | X | 6\n",
      "-----\n",
      "O | O | X\n",
      "-----\n",
      "Player X wins!\n"
     ]
    }
   ],
   "source": [
    "def print_board(board):\n",
    "    for row in board:\n",
    "        print(\" | \".join(row))\n",
    "        print(\"-\" * 5)\n",
    "\n",
    "def check_winner(board, player):\n",
    "    # Check rows, columns, and diagonals\n",
    "    for i in range(3):\n",
    "        if all([cell == player for cell in board[i]]) or \\\n",
    "           all([board[j][i] == player for j in range(3)]):\n",
    "            return True\n",
    "    if all([board[i][i] == player for i in range(3)]) or \\\n",
    "       all([board[i][2 - i] == player for i in range(3)]):\n",
    "        return True\n",
    "    return False\n",
    "\n",
    "def is_full(board):\n",
    "    return all(cell in ['X', 'O'] for row in board for cell in row)\n",
    "\n",
    "def play_game():\n",
    "    board = [[\"1\", \"2\", \"3\"],\n",
    "             [\"4\", \"5\", \"6\"],\n",
    "             [\"7\", \"8\", \"9\"]]\n",
    "    current_player = \"X\"\n",
    "    \n",
    "    while True:\n",
    "        print_board(board)\n",
    "        move = input(f\"Player {current_player}, enter a position (1-9): \")\n",
    "\n",
    "        if not move.isdigit() or int(move) < 1 or int(move) > 9:\n",
    "            print(\"Invalid input. Try again.\")\n",
    "            continue\n",
    "\n",
    "        move = int(move) - 1\n",
    "        row, col = divmod(move, 3)\n",
    "\n",
    "        if board[row][col] in ['X', 'O']:\n",
    "            print(\"That spot is already taken. Try again.\")\n",
    "            continue\n",
    "\n",
    "        board[row][col] = current_player\n",
    "\n",
    "        if check_winner(board, current_player):\n",
    "            print_board(board)\n",
    "            print(f\"Player {current_player} wins!\")\n",
    "            break\n",
    "\n",
    "        if is_full(board):\n",
    "            print_board(board)\n",
    "            print(\"It's a tie!\")\n",
    "            break\n",
    "\n",
    "        current_player = \"O\" if current_player == \"X\" else \"X\"\n",
    "\n",
    "if __name__ == \"__main__\":\n",
    "    play_game()\n"
   ]
  },
  {
   "cell_type": "code",
   "execution_count": null,
   "id": "b881210d-34aa-40cc-bf5c-88ad460461e6",
   "metadata": {},
   "outputs": [],
   "source": []
  }
 ],
 "metadata": {
  "kernelspec": {
   "display_name": "Python [conda env:base] *",
   "language": "python",
   "name": "conda-base-py"
  },
  "language_info": {
   "codemirror_mode": {
    "name": "ipython",
    "version": 3
   },
   "file_extension": ".py",
   "mimetype": "text/x-python",
   "name": "python",
   "nbconvert_exporter": "python",
   "pygments_lexer": "ipython3",
   "version": "3.12.7"
  }
 },
 "nbformat": 4,
 "nbformat_minor": 5
}
