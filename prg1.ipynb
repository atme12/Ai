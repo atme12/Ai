{
 "cells": [
  {
   "cell_type": "code",
   "execution_count": 2,
   "id": "377a1d69-af01-40ea-92db-58e093c70237",
   "metadata": {},
   "outputs": [
    {
     "name": "stdout",
     "output_type": "stream",
     "text": [
      "Solution Path: [(0, 0), (0, 3), (4, 3), (4, 0), (1, 3), (1, 0), (0, 1), (4, 1), (2, 3)]\n"
     ]
    }
   ],
   "source": [
    "def water_jug_dfs(capacity_x, capacity_y, target):\n",
    "    stack = [(0, 0)]  # Start with empty jugs (x, y)\n",
    "    visited = set()  # Track visited states \n",
    "    path = []  # Store the path to solution\n",
    "    \n",
    "    while stack:\n",
    "        state = stack.pop()\n",
    "        if state in visited:\n",
    "            continue\n",
    "        \n",
    "        visited.add(state)        \n",
    "        path.append(state)        \n",
    "        x, y = state                \n",
    "        \n",
    "        if x == target or y == target:\n",
    "                return path  # Solution found\n",
    "            \n",
    "        # Possible operations:        \n",
    "        next_states = set()       \n",
    "        next_states.add((capacity_x, y))  # Fill jug X        \n",
    "        next_states.add((x, capacity_y))  # Fill jug Y        \n",
    "        next_states.add((0, y))  # Empty jug X        \n",
    "        next_states.add((x, 0))  # Empty jug Y   \n",
    "        \n",
    "        # Pour water from X to Y        \n",
    "        transfer = min(x, capacity_y - y)        \n",
    "        next_states.add((x - transfer, y + transfer))                \n",
    "        \n",
    "        # Pour water from Y to X        \n",
    "        transfer = min(y, capacity_x - x)        \n",
    "        next_states.add((x + transfer, y - transfer))                \n",
    "        \n",
    "        # Add new states to stack        \n",
    "        for new_state in next_states:            \n",
    "            if new_state not in visited:                \n",
    "                stack.append(new_state)        \n",
    "    return None  # No solution\n",
    "\n",
    "# Example usage:\n",
    "capacity_x, capacity_y, target = 4, 3, 2  # Jug capacities and target amount\n",
    "solution_path = water_jug_dfs(capacity_x, capacity_y, target)\n",
    "print(\"Solution Path:\", solution_path)"
   ]
  },
  {
   "cell_type": "code",
   "execution_count": 4,
   "id": "2e14470d-d2a2-404b-bc9e-5f993fe3ad30",
   "metadata": {},
   "outputs": [
    {
     "name": "stdout",
     "output_type": "stream",
     "text": [
      "Solution Path: [(0, 0), (5, 0), (2, 3), (5, 3), (0, 3), (3, 0), (3, 3), (5, 1), (0, 1), (1, 0), (1, 3), (4, 0)]\n"
     ]
    }
   ],
   "source": [
    "def water_jug_dfs(capacity_x, capacity_y, target):\n",
    "    stack = [(0, 0)]  # Start with empty jugs (x, y)\n",
    "    visited = set()  # Track visited states\n",
    "    path = []  # Store the path to solution\n",
    "\n",
    "    while stack:\n",
    "        state = stack.pop()\n",
    "        if state in visited:\n",
    "            continue\n",
    "\n",
    "        visited.add(state)\n",
    "        path.append(state)\n",
    "        x, y = state\n",
    "\n",
    "        if x == target or y == target:\n",
    "            return path  # Solution found\n",
    "\n",
    "        # Possible operations:\n",
    "        next_states = set()\n",
    "        next_states.add((capacity_x, y))  # Fill jug X\n",
    "        next_states.add((x, capacity_y))  # Fill jug Y\n",
    "        next_states.add((0, y))  # Empty jug X\n",
    "        next_states.add((x, 0))  # Empty jug Y\n",
    "\n",
    "        # Pour water from X to Y\n",
    "        transfer = min(x, capacity_y - y)\n",
    "        next_states.add((x - transfer, y + transfer))\n",
    "\n",
    "        # Pour water from Y to X\n",
    "        transfer = min(y, capacity_x - x)\n",
    "        next_states.add((x + transfer, y - transfer))\n",
    "\n",
    "        # Add new states to stack\n",
    "        for new_state in next_states:\n",
    "            if new_state not in visited:\n",
    "                stack.append(new_state)\n",
    "\n",
    "    return None  # No solution\n",
    "\n",
    "# Example usage:\n",
    "capacity_x, capacity_y, target = 5, 3, 4  # Jug capacities and target amount\n",
    "solution_path = water_jug_dfs(capacity_x, capacity_y, target)\n",
    "print(\"Solution Path:\", solution_path)\n"
   ]
  },
  {
   "cell_type": "code",
   "execution_count": null,
   "id": "ec4267b9-be75-4996-8020-07f6d20cc97a",
   "metadata": {},
   "outputs": [],
   "source": []
  }
 ],
 "metadata": {
  "kernelspec": {
   "display_name": "Python [conda env:base] *",
   "language": "python",
   "name": "conda-base-py"
  },
  "language_info": {
   "codemirror_mode": {
    "name": "ipython",
    "version": 3
   },
   "file_extension": ".py",
   "mimetype": "text/x-python",
   "name": "python",
   "nbconvert_exporter": "python",
   "pygments_lexer": "ipython3",
   "version": "3.12.7"
  }
 },
 "nbformat": 4,
 "nbformat_minor": 5
}
