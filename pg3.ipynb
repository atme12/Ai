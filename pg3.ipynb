{
 "cells": [
  {
   "cell_type": "code",
   "execution_count": 2,
   "id": "b644f018-1f4b-4f73-a9c8-7803d9152abd",
   "metadata": {},
   "outputs": [
    {
     "name": "stdout",
     "output_type": "stream",
     "text": [
      "Path: [(0, 0), (0, 1), (1, 1)]\n"
     ]
    }
   ],
   "source": [
    "import heapq\n",
    "\n",
    "def heuristic(a, b):\n",
    "    \"\"\"Calculate the Manhattan distance between two points.\"\"\"\n",
    "    return abs(a[0] - b[0]) + abs(a[1] - b[1])\n",
    "\n",
    "def a_star_search(graph, start, goal):\n",
    "    \"\"\"Perform A* search on a given graph.\"\"\"\n",
    "    open_list = []  # Priority queue\n",
    "    heapq.heappush(open_list, (0, start))  # (f_score, node)\n",
    "    came_from = {}  # To reconstruct path\n",
    "    g_score = {node: float('inf') for node in graph}\n",
    "    g_score[start] = 0\n",
    "    f_score = {node: float('inf') for node in graph}\n",
    "    f_score[start] = heuristic(start, goal)\n",
    "    \n",
    "    while open_list:\n",
    "        _, current = heapq.heappop(open_list)\n",
    "        \n",
    "        if current == goal:\n",
    "            path = []\n",
    "            while current in came_from:\n",
    "                path.append(current)\n",
    "                current = came_from[current]\n",
    "            path.append(start)\n",
    "            path.reverse()\n",
    "            return path\n",
    "        \n",
    "        for neighbor, cost in graph[current]:\n",
    "            tentative_g_score = g_score[current] + cost\n",
    "            if tentative_g_score < g_score[neighbor]:\n",
    "                came_from[neighbor] = current\n",
    "                g_score[neighbor] = tentative_g_score\n",
    "                f_score[neighbor] = tentative_g_score + heuristic(neighbor, goal)\n",
    "                heapq.heappush(open_list, (f_score[neighbor], neighbor))\n",
    "    \n",
    "    return None  # No path found\n",
    "\n",
    "# Example usage:\n",
    "graph = {\n",
    "    (0, 0): [((1, 0), 1), ((0, 1), 1)],\n",
    "    (1, 0): [((1, 1), 1), ((0, 0), 1)],\n",
    "    (0, 1): [((1, 1), 1), ((0, 0), 1)],\n",
    "    (1, 1): [((1, 0), 1), ((0, 1), 1)]\n",
    "}\n",
    "\n",
    "start = (0, 0)\n",
    "goal = (1, 1)\n",
    "path = a_star_search(graph, start, goal)\n",
    "print(\"Path:\", path)"
   ]
  },
  {
   "cell_type": "code",
   "execution_count": null,
   "id": "7d9a2a42-e36a-4d13-871f-4d82dbc410cd",
   "metadata": {},
   "outputs": [],
   "source": []
  }
 ],
 "metadata": {
  "kernelspec": {
   "display_name": "Python [conda env:base] *",
   "language": "python",
   "name": "conda-base-py"
  },
  "language_info": {
   "codemirror_mode": {
    "name": "ipython",
    "version": 3
   },
   "file_extension": ".py",
   "mimetype": "text/x-python",
   "name": "python",
   "nbconvert_exporter": "python",
   "pygments_lexer": "ipython3",
   "version": "3.12.7"
  }
 },
 "nbformat": 4,
 "nbformat_minor": 5
}
