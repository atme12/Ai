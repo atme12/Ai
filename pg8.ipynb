{
 "cells": [
  {
   "cell_type": "code",
   "execution_count": 1,
   "id": "b2d60580-602a-4619-bfa4-1d0d86dbccd5",
   "metadata": {},
   "outputs": [
    {
     "name": "stdout",
     "output_type": "stream",
     "text": [
      "Best value for maximizing player: 3\n"
     ]
    }
   ],
   "source": [
    "class Node:\n",
    "    def __init__(self, value=None, children=None):\n",
    "        self.value = value\n",
    "        self.children = children or []\n",
    "\n",
    "    def is_leaf(self):\n",
    "        return not self.children\n",
    "\n",
    "\n",
    "def evaluate_two_ply_tree(root, maximizing=True):\n",
    "    if root.is_leaf():\n",
    "        return root.value\n",
    "\n",
    "    # First ply (maximizing player)\n",
    "    if maximizing:\n",
    "        max_eval = float('-inf')\n",
    "        for child in root.children:\n",
    "            # Second ply (minimizing player)\n",
    "            min_eval = float('inf')\n",
    "            for grandchild in child.children:\n",
    "                eval_value = evaluate_two_ply_tree(grandchild, maximizing=True)\n",
    "                min_eval = min(min_eval, eval_value)\n",
    "            max_eval = max(max_eval, min_eval)\n",
    "        return max_eval\n",
    "    else:\n",
    "        # For completeness, if we want to evaluate for minimizing player at root\n",
    "        min_eval = float('inf')\n",
    "        for child in root.children:\n",
    "            max_eval = float('-inf')\n",
    "            for grandchild in child.children:\n",
    "                eval_value = evaluate_two_ply_tree(grandchild, maximizing=False)\n",
    "                max_eval = max(max_eval, eval_value)\n",
    "            min_eval = min(min_eval, max_eval)\n",
    "        return min_eval\n",
    "\n",
    "\n",
    "# Example tree structure:\n",
    "# Root\n",
    "# ├── Node\n",
    "# │   ├── Leaf(value=3)\n",
    "# │   └── Leaf(value=5)\n",
    "# └── Node\n",
    "#     ├── Leaf(value=2)\n",
    "#     └── Leaf(value=9)\n",
    "\n",
    "# Build the tree\n",
    "leaf1 = Node(value=3)\n",
    "leaf2 = Node(value=5)\n",
    "leaf3 = Node(value=2)\n",
    "leaf4 = Node(value=9)\n",
    "\n",
    "child1 = Node(children=[leaf1, leaf2])\n",
    "child2 = Node(children=[leaf3, leaf4])\n",
    "\n",
    "root = Node(children=[child1, child2])\n",
    "\n",
    "# Evaluate the two-ply tree\n",
    "best_value = evaluate_two_ply_tree(root)\n",
    "print(\"Best value for maximizing player:\", best_value)\n"
   ]
  },
  {
   "cell_type": "code",
   "execution_count": null,
   "id": "57428087-a8e7-414e-8429-4156c9605628",
   "metadata": {},
   "outputs": [],
   "source": []
  }
 ],
 "metadata": {
  "kernelspec": {
   "display_name": "Python [conda env:base] *",
   "language": "python",
   "name": "conda-base-py"
  },
  "language_info": {
   "codemirror_mode": {
    "name": "ipython",
    "version": 3
   },
   "file_extension": ".py",
   "mimetype": "text/x-python",
   "name": "python",
   "nbconvert_exporter": "python",
   "pygments_lexer": "ipython3",
   "version": "3.12.7"
  }
 },
 "nbformat": 4,
 "nbformat_minor": 5
}
