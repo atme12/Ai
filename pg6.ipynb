{
 "cells": [
  {
   "cell_type": "code",
   "execution_count": 1,
   "id": "f67bcb24-14ef-4a20-8d51-230e03f29b5f",
   "metadata": {},
   "outputs": [
    {
     "name": "stdout",
     "output_type": "stream",
     "text": [
      "TSP Tour: [0, 1, 2, 4, 3, 0]\n"
     ]
    }
   ],
   "source": [
    "import numpy as np\n",
    "\n",
    "def distance(city1, city2):\n",
    "    \"\"\"Calculate Euclidean distance between two cities\"\"\"\n",
    "    return np.linalg.norm(np.array(city1) - np.array(city2))\n",
    "\n",
    "def nearest_neighbor_tsp(cities):\n",
    "    \"\"\"Solves TSP using the Nearest Neighbor heuristic\"\"\"\n",
    "    n = len(cities)\n",
    "    unvisited = set(range(n))\n",
    "    tour = [0]  # Start from the first city\n",
    "    unvisited.remove(0)\n",
    "    while unvisited:\n",
    "        last_city = tour[-1]\n",
    "        next_city = min(unvisited, key=lambda city: distance(cities[last_city], cities[city]))\n",
    "        tour.append(next_city)\n",
    "        unvisited.remove(next_city)\n",
    "    tour.append(tour[0])  # Return to starting city\n",
    "    return tour\n",
    "\n",
    "# Example usage\n",
    "cities = [(0, 0), (2, 5), (5, 2), (7, 6), (8, 3)]\n",
    "tour = nearest_neighbor_tsp(cities)\n",
    "print(\"TSP Tour:\", tour)\n"
   ]
  },
  {
   "cell_type": "code",
   "execution_count": null,
   "id": "413773fd-79f9-4d9c-af9d-f201fa07287d",
   "metadata": {},
   "outputs": [],
   "source": []
  }
 ],
 "metadata": {
  "kernelspec": {
   "display_name": "Python [conda env:base] *",
   "language": "python",
   "name": "conda-base-py"
  },
  "language_info": {
   "codemirror_mode": {
    "name": "ipython",
    "version": 3
   },
   "file_extension": ".py",
   "mimetype": "text/x-python",
   "name": "python",
   "nbconvert_exporter": "python",
   "pygments_lexer": "ipython3",
   "version": "3.12.7"
  }
 },
 "nbformat": 4,
 "nbformat_minor": 5
}
